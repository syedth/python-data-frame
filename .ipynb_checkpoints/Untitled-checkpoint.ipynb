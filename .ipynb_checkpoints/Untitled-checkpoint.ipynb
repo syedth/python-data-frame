{
 "cells": [
  {
   "cell_type": "code",
   "execution_count": null,
   "metadata": {},
   "outputs": [],
   "source": [
    "import pandas as pd\n",
    "import csv\n",
    "import os\n",
    "\n",
    "\n",
    "# Data Frame Module\n",
    "print('Data Frame Module')\n",
    "data = [['Tom', 'Jack', 'Steve', 'Ricky'], [28, 34, 29, 42]]\n",
    "df = pd.DataFrame(data, columns=['Soldier', 'Pilot', 'Engineer', 'Doctor'], index=[\n",
    "                  'Name', 'Age'])\n",
    "print(df)"
   ]
  }
 ],
 "metadata": {
  "kernelspec": {
   "display_name": "Python 3",
   "language": "python",
   "name": "python3"
  },
  "language_info": {
   "codemirror_mode": {
    "name": "ipython",
    "version": 3
   },
   "file_extension": ".py",
   "mimetype": "text/x-python",
   "name": "python",
   "nbconvert_exporter": "python",
   "pygments_lexer": "ipython3",
   "version": "3.7.3"
  }
 },
 "nbformat": 4,
 "nbformat_minor": 2
}
